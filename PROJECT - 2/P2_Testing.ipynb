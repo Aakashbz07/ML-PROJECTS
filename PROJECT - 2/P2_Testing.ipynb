{
  "nbformat": 4,
  "nbformat_minor": 0,
  "metadata": {
    "colab": {
      "provenance": []
    },
    "kernelspec": {
      "name": "python3",
      "display_name": "Python 3"
    },
    "language_info": {
      "name": "python"
    }
  },
  "cells": [
    {
      "cell_type": "code",
      "execution_count": 4,
      "metadata": {
        "id": "fQ5PQ4QUNIyQ"
      },
      "outputs": [],
      "source": [
        "from joblib import dump, load\n",
        "import numpy as np\n",
        "model = load(\"Dragon.joblib\")"
      ]
    },
    {
      "cell_type": "code",
      "source": [
        "Features = np.array([[-0.43942006,  3.12628155, -1.12165014, -0.27288841, -1.42262747,\n",
        "       -0.23979304, -1.31238772,  2.61111401, -1.0016859 , -0.5778192 ,\n",
        "       -0.97491834,  0.41164221, -0.86091034]])\n",
        "model.predict(Features)"
      ],
      "metadata": {
        "colab": {
          "base_uri": "https://localhost:8080/"
        },
        "id": "YO-dq1AiQIpw",
        "outputId": "e7419bc7-2a63-466b-d1d8-965868c0596e"
      },
      "execution_count": 6,
      "outputs": [
        {
          "output_type": "execute_result",
          "data": {
            "text/plain": [
              "array([22.319])"
            ]
          },
          "metadata": {},
          "execution_count": 6
        }
      ]
    }
  ]
}