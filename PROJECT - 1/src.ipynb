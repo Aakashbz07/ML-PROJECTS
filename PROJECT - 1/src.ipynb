{
 "cells": [
  {
   "cell_type": "code",
   "execution_count": 1,
   "metadata": {},
   "outputs": [],
   "source": [
    "import os\n",
    "import tarfile\n",
    "\n",
    "HOUSING_PATH = \"datasets/housing\"\n",
    "\n",
    "def fetch_housing_data(housing_path=HOUSING_PATH):\n",
    "    if not os.path.isdir(housing_path):\n",
    "        print(f\"Directory '{housing_path}' not found. Please make sure it exists.\")\n",
    "        return\n",
    "    \n",
    "    tgz_path = os.path.join(housing_path, \"housing.tgz\")\n",
    "    if not os.path.isfile(tgz_path):\n",
    "        print(f\"File '{tgz_path}' not found. Please make sure the dataset file is present.\")\n",
    "        return\n",
    "    \n",
    "    housing_tgz = tarfile.open(tgz_path)\n",
    "    housing_tgz.extractall(path=housing_path)\n",
    "    housing_tgz.close()\n",
    "\n",
    "fetch_housing_data()  # Extract the housing data from the local directory\n"
   ]
  },
  {
   "cell_type": "code",
   "execution_count": null,
   "metadata": {},
   "outputs": [],
   "source": []
  }
 ],
 "metadata": {
  "kernelspec": {
   "display_name": "Python 3",
   "language": "python",
   "name": "python3"
  },
  "language_info": {
   "codemirror_mode": {
    "name": "ipython",
    "version": 3
   },
   "file_extension": ".py",
   "mimetype": "text/x-python",
   "name": "python",
   "nbconvert_exporter": "python",
   "pygments_lexer": "ipython3",
   "version": "3.11.3"
  },
  "orig_nbformat": 4
 },
 "nbformat": 4,
 "nbformat_minor": 2
}
